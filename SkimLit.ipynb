{
  "nbformat": 4,
  "nbformat_minor": 0,
  "metadata": {
    "colab": {
      "name": "SkimLit.ipynb",
      "provenance": [],
      "collapsed_sections": [],
      "authorship_tag": "ABX9TyMxyz/Oed+UJ6PJj97VbsOS",
      "include_colab_link": true
    },
    "kernelspec": {
      "name": "python3",
      "display_name": "Python 3"
    },
    "language_info": {
      "name": "python"
    },
    "accelerator": "GPU"
  },
  "cells": [
    {
      "cell_type": "markdown",
      "metadata": {
        "id": "view-in-github",
        "colab_type": "text"
      },
      "source": [
        "<a href=\"https://colab.research.google.com/github/KeremAydin98/skimlit/blob/main/SkimLit.ipynb\" target=\"_parent\"><img src=\"https://colab.research.google.com/assets/colab-badge.svg\" alt=\"Open In Colab\"/></a>"
      ]
    },
    {
      "cell_type": "markdown",
      "source": [
        "# Load the data"
      ],
      "metadata": {
        "id": "uDxE4_1qb9HA"
      }
    },
    {
      "cell_type": "code",
      "execution_count": 1,
      "metadata": {
        "colab": {
          "base_uri": "https://localhost:8080/"
        },
        "id": "Ox78NryjWVh5",
        "outputId": "1f6c715c-d97b-4fe9-e349-9c86033eb383"
      },
      "outputs": [
        {
          "output_type": "stream",
          "name": "stdout",
          "text": [
            "Cloning into 'pubmed-rct'...\n",
            "remote: Enumerating objects: 33, done.\u001b[K\n",
            "remote: Counting objects: 100% (8/8), done.\u001b[K\n",
            "remote: Compressing objects: 100% (3/3), done.\u001b[K\n",
            "remote: Total 33 (delta 5), reused 5 (delta 5), pack-reused 25\u001b[K\n",
            "Unpacking objects: 100% (33/33), done.\n",
            "Checking out files: 100% (13/13), done.\n"
          ]
        }
      ],
      "source": [
        "!git clone https://github.com/Franck-Dernoncourt/pubmed-rct.git"
      ]
    },
    {
      "cell_type": "code",
      "source": [
        "path_dir = \"/content/pubmed-rct/PubMed_20k_RCT_numbers_replaced_with_at_sign\"\n",
        "train_dir = path_dir + \"/train.txt\"\n",
        "val_dir = path_dir + \"/dev.txt\"\n",
        "test_dir = path_dir + \"/test.txt\""
      ],
      "metadata": {
        "id": "nIonN5P7W08A"
      },
      "execution_count": 2,
      "outputs": []
    },
    {
      "cell_type": "code",
      "source": [
        "def get_lines(filename):\n",
        "  with open(filename, \"r\") as f:\n",
        "    return f.readlines()"
      ],
      "metadata": {
        "id": "IP-zLB0BXx0O"
      },
      "execution_count": 3,
      "outputs": []
    },
    {
      "cell_type": "code",
      "source": [
        "sentences = get_lines(train_dir)\n",
        "sentences[:14]"
      ],
      "metadata": {
        "colab": {
          "base_uri": "https://localhost:8080/"
        },
        "id": "tcE3_3HoZVCe",
        "outputId": "c482e49a-6849-487a-ebcb-70190c93562e"
      },
      "execution_count": 4,
      "outputs": [
        {
          "output_type": "execute_result",
          "data": {
            "text/plain": [
              "['###24293578\\n',\n",
              " 'OBJECTIVE\\tTo investigate the efficacy of @ weeks of daily low-dose oral prednisolone in improving pain , mobility , and systemic low-grade inflammation in the short term and whether the effect would be sustained at @ weeks in older adults with moderate to severe knee osteoarthritis ( OA ) .\\n',\n",
              " 'METHODS\\tA total of @ patients with primary knee OA were randomized @:@ ; @ received @ mg/day of prednisolone and @ received placebo for @ weeks .\\n',\n",
              " 'METHODS\\tOutcome measures included pain reduction and improvement in function scores and systemic inflammation markers .\\n',\n",
              " 'METHODS\\tPain was assessed using the visual analog pain scale ( @-@ mm ) .\\n',\n",
              " 'METHODS\\tSecondary outcome measures included the Western Ontario and McMaster Universities Osteoarthritis Index scores , patient global assessment ( PGA ) of the severity of knee OA , and @-min walk distance ( @MWD ) .\\n',\n",
              " 'METHODS\\tSerum levels of interleukin @ ( IL-@ ) , IL-@ , tumor necrosis factor ( TNF ) - , and high-sensitivity C-reactive protein ( hsCRP ) were measured .\\n',\n",
              " 'RESULTS\\tThere was a clinically relevant reduction in the intervention group compared to the placebo group for knee pain , physical function , PGA , and @MWD at @ weeks .\\n',\n",
              " 'RESULTS\\tThe mean difference between treatment arms ( @ % CI ) was @ ( @-@ @ ) , p < @ ; @ ( @-@ @ ) , p < @ ; @ ( @-@ @ ) , p < @ ; and @ ( @-@ @ ) , p < @ , respectively .\\n',\n",
              " 'RESULTS\\tFurther , there was a clinically relevant reduction in the serum levels of IL-@ , IL-@ , TNF - , and hsCRP at @ weeks in the intervention group when compared to the placebo group .\\n',\n",
              " 'RESULTS\\tThese differences remained significant at @ weeks .\\n',\n",
              " 'RESULTS\\tThe Outcome Measures in Rheumatology Clinical Trials-Osteoarthritis Research Society International responder rate was @ % in the intervention group and @ % in the placebo group ( p < @ ) .\\n',\n",
              " 'CONCLUSIONS\\tLow-dose oral prednisolone had both a short-term and a longer sustained effect resulting in less knee pain , better physical function , and attenuation of systemic inflammation in older patients with knee OA ( ClinicalTrials.gov identifier NCT@ ) .\\n',\n",
              " '\\n']"
            ]
          },
          "metadata": {},
          "execution_count": 4
        }
      ]
    },
    {
      "cell_type": "markdown",
      "source": [
        "# Preprocess data"
      ],
      "metadata": {
        "id": "JTZ3SxW8b_5S"
      }
    },
    {
      "cell_type": "code",
      "source": [
        "def preprocess_data(filename):\n",
        "\n",
        "  input_lines = get_lines(filename)\n",
        "  abstract_lines = \"\"\n",
        "  abstract_samples = []\n",
        "\n",
        "\n",
        "  for line in input_lines:\n",
        "\n",
        "    if line.startswith(\"###\"):\n",
        "\n",
        "      abstract_id = line\n",
        "      abstract_lines = \"\" # reset the abstract line\n",
        "\n",
        "    elif line.isspace():\n",
        "\n",
        "      abstract_line_split = abstract_lines.splitlines() # splitlines(): Split a string into a list where each line is a list item:\n",
        "    \n",
        "      # Iterate through each line\n",
        "      for abstract_line_number, abstract_line in enumerate(abstract_line_split):\n",
        "\n",
        "        line_data = {}\n",
        "\n",
        "        target_text_split = abstract_line.split(\"\\t\") #Split target label from text\n",
        "\n",
        "        line_data[\"target\"] = target_text_split[0] # get the target label\n",
        "        line_data[\"text\"] = target_text_split[1].lower()\n",
        "        line_data[\"line_number\"] = abstract_line_number\n",
        "        line_data[\"total_lines\"] = len(abstract_line_split) - 1\n",
        "        abstract_samples.append(line_data)\n",
        "\n",
        "    else:\n",
        "\n",
        "      abstract_lines += line\n",
        "\n",
        "  \n",
        "  return abstract_samples  "
      ],
      "metadata": {
        "id": "zAPlknbzXNI8"
      },
      "execution_count": 5,
      "outputs": []
    },
    {
      "cell_type": "code",
      "source": [
        "train_samples = preprocess_data(train_dir)\n",
        "val_samples = preprocess_data(val_dir)\n",
        "test_samples = preprocess_data(test_dir)"
      ],
      "metadata": {
        "id": "JEJAERn5bEAz"
      },
      "execution_count": 6,
      "outputs": []
    },
    {
      "cell_type": "code",
      "source": [
        "train_samples[0]"
      ],
      "metadata": {
        "colab": {
          "base_uri": "https://localhost:8080/"
        },
        "id": "yYqu91IQbN4c",
        "outputId": "9edafef4-d221-4e00-d61d-b0ecb7392e7e"
      },
      "execution_count": 7,
      "outputs": [
        {
          "output_type": "execute_result",
          "data": {
            "text/plain": [
              "{'line_number': 0,\n",
              " 'target': 'OBJECTIVE',\n",
              " 'text': 'to investigate the efficacy of @ weeks of daily low-dose oral prednisolone in improving pain , mobility , and systemic low-grade inflammation in the short term and whether the effect would be sustained at @ weeks in older adults with moderate to severe knee osteoarthritis ( oa ) .',\n",
              " 'total_lines': 11}"
            ]
          },
          "metadata": {},
          "execution_count": 7
        }
      ]
    },
    {
      "cell_type": "code",
      "source": [
        "import pandas as pd\n",
        "\n",
        "train_df = pd.DataFrame(train_samples)\n",
        "val_df = pd.DataFrame(val_samples)\n",
        "test_df = pd.DataFrame(test_samples)"
      ],
      "metadata": {
        "id": "24rlXjBubSoV"
      },
      "execution_count": 8,
      "outputs": []
    },
    {
      "cell_type": "code",
      "source": [
        "train_df.head()"
      ],
      "metadata": {
        "colab": {
          "base_uri": "https://localhost:8080/",
          "height": 206
        },
        "id": "XIFc5m0bb4vq",
        "outputId": "ebad2a33-7095-4e16-d9c2-26aedbb1b9f0"
      },
      "execution_count": 9,
      "outputs": [
        {
          "output_type": "execute_result",
          "data": {
            "text/plain": [
              "      target                                               text  line_number  \\\n",
              "0  OBJECTIVE  to investigate the efficacy of @ weeks of dail...            0   \n",
              "1    METHODS  a total of @ patients with primary knee oa wer...            1   \n",
              "2    METHODS  outcome measures included pain reduction and i...            2   \n",
              "3    METHODS  pain was assessed using the visual analog pain...            3   \n",
              "4    METHODS  secondary outcome measures included the wester...            4   \n",
              "\n",
              "   total_lines  \n",
              "0           11  \n",
              "1           11  \n",
              "2           11  \n",
              "3           11  \n",
              "4           11  "
            ],
            "text/html": [
              "\n",
              "  <div id=\"df-d6993820-edf4-4fcf-bc3d-a7d8b02d08e2\">\n",
              "    <div class=\"colab-df-container\">\n",
              "      <div>\n",
              "<style scoped>\n",
              "    .dataframe tbody tr th:only-of-type {\n",
              "        vertical-align: middle;\n",
              "    }\n",
              "\n",
              "    .dataframe tbody tr th {\n",
              "        vertical-align: top;\n",
              "    }\n",
              "\n",
              "    .dataframe thead th {\n",
              "        text-align: right;\n",
              "    }\n",
              "</style>\n",
              "<table border=\"1\" class=\"dataframe\">\n",
              "  <thead>\n",
              "    <tr style=\"text-align: right;\">\n",
              "      <th></th>\n",
              "      <th>target</th>\n",
              "      <th>text</th>\n",
              "      <th>line_number</th>\n",
              "      <th>total_lines</th>\n",
              "    </tr>\n",
              "  </thead>\n",
              "  <tbody>\n",
              "    <tr>\n",
              "      <th>0</th>\n",
              "      <td>OBJECTIVE</td>\n",
              "      <td>to investigate the efficacy of @ weeks of dail...</td>\n",
              "      <td>0</td>\n",
              "      <td>11</td>\n",
              "    </tr>\n",
              "    <tr>\n",
              "      <th>1</th>\n",
              "      <td>METHODS</td>\n",
              "      <td>a total of @ patients with primary knee oa wer...</td>\n",
              "      <td>1</td>\n",
              "      <td>11</td>\n",
              "    </tr>\n",
              "    <tr>\n",
              "      <th>2</th>\n",
              "      <td>METHODS</td>\n",
              "      <td>outcome measures included pain reduction and i...</td>\n",
              "      <td>2</td>\n",
              "      <td>11</td>\n",
              "    </tr>\n",
              "    <tr>\n",
              "      <th>3</th>\n",
              "      <td>METHODS</td>\n",
              "      <td>pain was assessed using the visual analog pain...</td>\n",
              "      <td>3</td>\n",
              "      <td>11</td>\n",
              "    </tr>\n",
              "    <tr>\n",
              "      <th>4</th>\n",
              "      <td>METHODS</td>\n",
              "      <td>secondary outcome measures included the wester...</td>\n",
              "      <td>4</td>\n",
              "      <td>11</td>\n",
              "    </tr>\n",
              "  </tbody>\n",
              "</table>\n",
              "</div>\n",
              "      <button class=\"colab-df-convert\" onclick=\"convertToInteractive('df-d6993820-edf4-4fcf-bc3d-a7d8b02d08e2')\"\n",
              "              title=\"Convert this dataframe to an interactive table.\"\n",
              "              style=\"display:none;\">\n",
              "        \n",
              "  <svg xmlns=\"http://www.w3.org/2000/svg\" height=\"24px\"viewBox=\"0 0 24 24\"\n",
              "       width=\"24px\">\n",
              "    <path d=\"M0 0h24v24H0V0z\" fill=\"none\"/>\n",
              "    <path d=\"M18.56 5.44l.94 2.06.94-2.06 2.06-.94-2.06-.94-.94-2.06-.94 2.06-2.06.94zm-11 1L8.5 8.5l.94-2.06 2.06-.94-2.06-.94L8.5 2.5l-.94 2.06-2.06.94zm10 10l.94 2.06.94-2.06 2.06-.94-2.06-.94-.94-2.06-.94 2.06-2.06.94z\"/><path d=\"M17.41 7.96l-1.37-1.37c-.4-.4-.92-.59-1.43-.59-.52 0-1.04.2-1.43.59L10.3 9.45l-7.72 7.72c-.78.78-.78 2.05 0 2.83L4 21.41c.39.39.9.59 1.41.59.51 0 1.02-.2 1.41-.59l7.78-7.78 2.81-2.81c.8-.78.8-2.07 0-2.86zM5.41 20L4 18.59l7.72-7.72 1.47 1.35L5.41 20z\"/>\n",
              "  </svg>\n",
              "      </button>\n",
              "      \n",
              "  <style>\n",
              "    .colab-df-container {\n",
              "      display:flex;\n",
              "      flex-wrap:wrap;\n",
              "      gap: 12px;\n",
              "    }\n",
              "\n",
              "    .colab-df-convert {\n",
              "      background-color: #E8F0FE;\n",
              "      border: none;\n",
              "      border-radius: 50%;\n",
              "      cursor: pointer;\n",
              "      display: none;\n",
              "      fill: #1967D2;\n",
              "      height: 32px;\n",
              "      padding: 0 0 0 0;\n",
              "      width: 32px;\n",
              "    }\n",
              "\n",
              "    .colab-df-convert:hover {\n",
              "      background-color: #E2EBFA;\n",
              "      box-shadow: 0px 1px 2px rgba(60, 64, 67, 0.3), 0px 1px 3px 1px rgba(60, 64, 67, 0.15);\n",
              "      fill: #174EA6;\n",
              "    }\n",
              "\n",
              "    [theme=dark] .colab-df-convert {\n",
              "      background-color: #3B4455;\n",
              "      fill: #D2E3FC;\n",
              "    }\n",
              "\n",
              "    [theme=dark] .colab-df-convert:hover {\n",
              "      background-color: #434B5C;\n",
              "      box-shadow: 0px 1px 3px 1px rgba(0, 0, 0, 0.15);\n",
              "      filter: drop-shadow(0px 1px 2px rgba(0, 0, 0, 0.3));\n",
              "      fill: #FFFFFF;\n",
              "    }\n",
              "  </style>\n",
              "\n",
              "      <script>\n",
              "        const buttonEl =\n",
              "          document.querySelector('#df-d6993820-edf4-4fcf-bc3d-a7d8b02d08e2 button.colab-df-convert');\n",
              "        buttonEl.style.display =\n",
              "          google.colab.kernel.accessAllowed ? 'block' : 'none';\n",
              "\n",
              "        async function convertToInteractive(key) {\n",
              "          const element = document.querySelector('#df-d6993820-edf4-4fcf-bc3d-a7d8b02d08e2');\n",
              "          const dataTable =\n",
              "            await google.colab.kernel.invokeFunction('convertToInteractive',\n",
              "                                                     [key], {});\n",
              "          if (!dataTable) return;\n",
              "\n",
              "          const docLinkHtml = 'Like what you see? Visit the ' +\n",
              "            '<a target=\"_blank\" href=https://colab.research.google.com/notebooks/data_table.ipynb>data table notebook</a>'\n",
              "            + ' to learn more about interactive tables.';\n",
              "          element.innerHTML = '';\n",
              "          dataTable['output_type'] = 'display_data';\n",
              "          await google.colab.output.renderOutput(dataTable, element);\n",
              "          const docLink = document.createElement('div');\n",
              "          docLink.innerHTML = docLinkHtml;\n",
              "          element.appendChild(docLink);\n",
              "        }\n",
              "      </script>\n",
              "    </div>\n",
              "  </div>\n",
              "  "
            ]
          },
          "metadata": {},
          "execution_count": 9
        }
      ]
    },
    {
      "cell_type": "code",
      "source": [
        "train_sentences = train_df[\"text\"].to_list()\n",
        "val_sentences = val_df[\"text\"].to_list()\n",
        "test_sentences = test_df[\"text\"].to_list()"
      ],
      "metadata": {
        "id": "ZSZ-jH2Wb6nu"
      },
      "execution_count": 10,
      "outputs": []
    },
    {
      "cell_type": "code",
      "source": [
        "train_labels = train_df[\"target\"].to_list()\n",
        "val_labels = val_df[\"target\"].to_list()\n",
        "test_labels = test_df[\"target\"].to_list()"
      ],
      "metadata": {
        "id": "s2GEs8-JcQet"
      },
      "execution_count": 11,
      "outputs": []
    },
    {
      "cell_type": "code",
      "source": [
        "train_line_number = train_df[\"line_number\"].to_list()\n",
        "val_line_number = val_df[\"line_number\"].to_list()\n",
        "test_line_number = test_df[\"line_number\"].to_list()"
      ],
      "metadata": {
        "id": "Cqo-T7zPcaY6"
      },
      "execution_count": 12,
      "outputs": []
    },
    {
      "cell_type": "code",
      "source": [
        "train_total_lines = train_df[\"total_lines\"].to_list()\n",
        "val_total_lines = val_df[\"total_lines\"].to_list()\n",
        "test_total_lines = test_df[\"total_lines\"].to_list()"
      ],
      "metadata": {
        "id": "Son0MFVgcpZZ"
      },
      "execution_count": 13,
      "outputs": []
    },
    {
      "cell_type": "code",
      "source": [
        "train_df[\"target\"].value_counts()"
      ],
      "metadata": {
        "colab": {
          "base_uri": "https://localhost:8080/"
        },
        "id": "vyl1Ul5ws4rj",
        "outputId": "bcf0ce3f-78b1-4873-8277-1eced81b8747"
      },
      "execution_count": 14,
      "outputs": [
        {
          "output_type": "execute_result",
          "data": {
            "text/plain": [
              "METHODS        59353\n",
              "RESULTS        57953\n",
              "CONCLUSIONS    27168\n",
              "BACKGROUND     21727\n",
              "OBJECTIVE      13839\n",
              "Name: target, dtype: int64"
            ]
          },
          "metadata": {},
          "execution_count": 14
        }
      ]
    },
    {
      "cell_type": "markdown",
      "source": [
        "# Encode and One hot encode the dataset"
      ],
      "metadata": {
        "id": "eHNEDNV6c0z6"
      }
    },
    {
      "cell_type": "code",
      "source": [
        "from sklearn.preprocessing import OneHotEncoder, LabelEncoder"
      ],
      "metadata": {
        "id": "aMsb5IbtdCtp"
      },
      "execution_count": 15,
      "outputs": []
    },
    {
      "cell_type": "code",
      "source": [
        "def encode_labels(train_labels, val_labels):\n",
        "\n",
        "  le = LabelEncoder()\n",
        "\n",
        "  train_labels_encoded = le.fit_transform(train_labels)\n",
        "  val_labels_encoded = le.transform(val_labels)\n",
        "\n",
        "  return train_labels_encoded, val_labels_encoded"
      ],
      "metadata": {
        "id": "HqbRTjESc8mG"
      },
      "execution_count": 16,
      "outputs": []
    },
    {
      "cell_type": "code",
      "source": [
        "train_labels_encoded, val_labels_encoded = encode_labels(train_labels, val_labels)"
      ],
      "metadata": {
        "id": "UXNcPpfxdhob"
      },
      "execution_count": 17,
      "outputs": []
    },
    {
      "cell_type": "code",
      "source": [
        "def one_hot_labels(train_df, val_df):\n",
        "\n",
        "  one_hot = OneHotEncoder(sparse=False)\n",
        "\n",
        "  train_labels_one_hot = one_hot.fit_transform(train_df[\"target\"].to_numpy().reshape(-1,1))\n",
        "  val_labels_one_hot = one_hot.transform(val_df[\"target\"].to_numpy().reshape(-1,1))\n",
        "\n",
        "  return train_labels_one_hot, val_labels_one_hot"
      ],
      "metadata": {
        "id": "wxEZcQTVdoXp"
      },
      "execution_count": 18,
      "outputs": []
    },
    {
      "cell_type": "code",
      "source": [
        "train_labels_one_hot, val_labels_one_hot =  one_hot_labels(train_df, val_df)"
      ],
      "metadata": {
        "id": "igI4ZabreHnk"
      },
      "execution_count": 19,
      "outputs": []
    },
    {
      "cell_type": "code",
      "source": [
        "import numpy as np\n",
        "percentage = int(np.percentile(train_line_number, 98))\n",
        "percentage"
      ],
      "metadata": {
        "colab": {
          "base_uri": "https://localhost:8080/"
        },
        "id": "HfJGcPUWeyIP",
        "outputId": "a861c4bb-2041-428a-a0d6-9cc6e8a22275"
      },
      "execution_count": 51,
      "outputs": [
        {
          "output_type": "execute_result",
          "data": {
            "text/plain": [
              "15"
            ]
          },
          "metadata": {},
          "execution_count": 51
        }
      ]
    },
    {
      "cell_type": "code",
      "source": [
        "import tensorflow as tf"
      ],
      "metadata": {
        "id": "MKy2GTzqLWhf"
      },
      "execution_count": 23,
      "outputs": []
    },
    {
      "cell_type": "code",
      "source": [
        "train_line_number_one_hot = tf.one_hot(train_df[\"line_number\"].to_numpy(),depth=percentage)\n",
        "val_line_number_one_hot = tf.one_hot(val_df[\"line_number\"].to_numpy(),depth=percentage)"
      ],
      "metadata": {
        "id": "ZuU4F34wgiF1"
      },
      "execution_count": 52,
      "outputs": []
    },
    {
      "cell_type": "code",
      "source": [
        "train_line_number_one_hot.shape,train_line_number_one_hot.dtype"
      ],
      "metadata": {
        "colab": {
          "base_uri": "https://localhost:8080/"
        },
        "id": "mv-nIwh5gY6E",
        "outputId": "08d6947f-48e6-409b-d459-889e72564fec"
      },
      "execution_count": 53,
      "outputs": [
        {
          "output_type": "execute_result",
          "data": {
            "text/plain": [
              "(TensorShape([180040, 15]), tf.float32)"
            ]
          },
          "metadata": {},
          "execution_count": 53
        }
      ]
    },
    {
      "cell_type": "code",
      "source": [
        "percentage = int(np.percentile(train_total_lines, 98))\n",
        "percentage"
      ],
      "metadata": {
        "colab": {
          "base_uri": "https://localhost:8080/"
        },
        "id": "PzQZwQIoLAd_",
        "outputId": "eeebb84a-690e-4c78-c6fd-296c2170fe40"
      },
      "execution_count": 54,
      "outputs": [
        {
          "output_type": "execute_result",
          "data": {
            "text/plain": [
              "20"
            ]
          },
          "metadata": {},
          "execution_count": 54
        }
      ]
    },
    {
      "cell_type": "code",
      "source": [
        "train_total_lines_one_hot = tf.one_hot(train_df[\"total_lines\"].to_numpy(),depth=percentage)\n",
        "val_total_lines_one_hot = tf.one_hot(val_df[\"total_lines\"].to_numpy(),depth=percentage)"
      ],
      "metadata": {
        "id": "CPJTh-8XrUdK"
      },
      "execution_count": 55,
      "outputs": []
    },
    {
      "cell_type": "code",
      "source": [
        "train_total_lines_one_hot.shape,train_total_lines_one_hot.dtype"
      ],
      "metadata": {
        "colab": {
          "base_uri": "https://localhost:8080/"
        },
        "id": "oHAHdR70rgpb",
        "outputId": "1ec2da61-ab5f-4338-e57a-1d320d729595"
      },
      "execution_count": 56,
      "outputs": [
        {
          "output_type": "execute_result",
          "data": {
            "text/plain": [
              "(TensorShape([180040, 20]), tf.float32)"
            ]
          },
          "metadata": {},
          "execution_count": 56
        }
      ]
    },
    {
      "cell_type": "markdown",
      "source": [
        "# Char Vectorization, Pretrained Embedding "
      ],
      "metadata": {
        "id": "qlyyDo_hhDl2"
      }
    },
    {
      "cell_type": "code",
      "source": [
        "def split_chars(sentence):\n",
        "\n",
        "  delimiter = \" \"\n",
        "\n",
        "  return delimiter.join(list(sentence))"
      ],
      "metadata": {
        "id": "tyRSkLrvmcBM"
      },
      "execution_count": 31,
      "outputs": []
    },
    {
      "cell_type": "code",
      "source": [
        "import string \n",
        "\n",
        "alphabet = string.ascii_lowercase + string.digits + string.punctuation\n",
        "num_chars = len(alphabet) + 2"
      ],
      "metadata": {
        "id": "FgrAP4GYhUoI"
      },
      "execution_count": 32,
      "outputs": []
    },
    {
      "cell_type": "code",
      "source": [
        "len(alphabet), alphabet"
      ],
      "metadata": {
        "colab": {
          "base_uri": "https://localhost:8080/"
        },
        "id": "neQjxyJfhcBl",
        "outputId": "fcf65a69-72b0-4b5d-edb8-63a5c56dacbf"
      },
      "execution_count": 33,
      "outputs": [
        {
          "output_type": "execute_result",
          "data": {
            "text/plain": [
              "(68, 'abcdefghijklmnopqrstuvwxyz0123456789!\"#$%&\\'()*+,-./:;<=>?@[\\\\]^_`{|}~')"
            ]
          },
          "metadata": {},
          "execution_count": 33
        }
      ]
    },
    {
      "cell_type": "code",
      "source": [
        "train_chars = [split_chars(sentence) for sentence in train_sentences]\n",
        "val_chars = [split_chars(sentence) for sentence in val_sentences]\n",
        "test_chars = [split_chars(sentence) for sentence in test_sentences]"
      ],
      "metadata": {
        "id": "9nb8TPerh9_H"
      },
      "execution_count": 34,
      "outputs": []
    },
    {
      "cell_type": "code",
      "source": [
        "train_chars[0]"
      ],
      "metadata": {
        "colab": {
          "base_uri": "https://localhost:8080/",
          "height": 69
        },
        "id": "AR68kWVWm3sR",
        "outputId": "3b8025f2-8643-42d6-f2a7-3539c19b770e"
      },
      "execution_count": 35,
      "outputs": [
        {
          "output_type": "execute_result",
          "data": {
            "text/plain": [
              "'t o   i n v e s t i g a t e   t h e   e f f i c a c y   o f   @   w e e k s   o f   d a i l y   l o w - d o s e   o r a l   p r e d n i s o l o n e   i n   i m p r o v i n g   p a i n   ,   m o b i l i t y   ,   a n d   s y s t e m i c   l o w - g r a d e   i n f l a m m a t i o n   i n   t h e   s h o r t   t e r m   a n d   w h e t h e r   t h e   e f f e c t   w o u l d   b e   s u s t a i n e d   a t   @   w e e k s   i n   o l d e r   a d u l t s   w i t h   m o d e r a t e   t o   s e v e r e   k n e e   o s t e o a r t h r i t i s   (   o a   )   .'"
            ],
            "application/vnd.google.colaboratory.intrinsic+json": {
              "type": "string"
            }
          },
          "metadata": {},
          "execution_count": 35
        }
      ]
    },
    {
      "cell_type": "code",
      "source": [
        "all_chars = [len(sentence) for sentence in train_sentences]\n",
        "np.mean(all_chars)"
      ],
      "metadata": {
        "colab": {
          "base_uri": "https://localhost:8080/"
        },
        "id": "u0YGq4JWnTRh",
        "outputId": "631b1cdf-59d2-4981-ed06-c7b4c4e8b992"
      },
      "execution_count": 36,
      "outputs": [
        {
          "output_type": "execute_result",
          "data": {
            "text/plain": [
              "149.3662574983337"
            ]
          },
          "metadata": {},
          "execution_count": 36
        }
      ]
    },
    {
      "cell_type": "code",
      "source": [
        "percentage = int(np.percentile(all_chars, 95))\n",
        "percentage"
      ],
      "metadata": {
        "colab": {
          "base_uri": "https://localhost:8080/"
        },
        "id": "P6tcEQ1kmIEi",
        "outputId": "08100d98-5ecf-45ba-e8a9-202d655d57c6"
      },
      "execution_count": 37,
      "outputs": [
        {
          "output_type": "execute_result",
          "data": {
            "text/plain": [
              "290"
            ]
          },
          "metadata": {},
          "execution_count": 37
        }
      ]
    },
    {
      "cell_type": "code",
      "source": [
        "import tensorflow as tf\n",
        "\n",
        "char_vectorization = tf.keras.layers.TextVectorization(max_tokens=num_chars,\n",
        "                                                       output_sequence_length=percentage)"
      ],
      "metadata": {
        "id": "oVgdra1OhqLR"
      },
      "execution_count": 38,
      "outputs": []
    },
    {
      "cell_type": "code",
      "source": [
        "char_vectorization.adapt(train_chars)"
      ],
      "metadata": {
        "id": "xE37ioEl2Se6"
      },
      "execution_count": 39,
      "outputs": []
    },
    {
      "cell_type": "code",
      "source": [
        "char_embedding = tf.keras.layers.Embedding(input_dim=num_chars,\n",
        "                                           output_dim=25) # from paper"
      ],
      "metadata": {
        "id": "zyWipQ57ohMW"
      },
      "execution_count": 40,
      "outputs": []
    },
    {
      "cell_type": "code",
      "source": [
        "# The paper has used Glove but since it is not in tensorfow hub, I used universal sentence encoder\n",
        "import tensorflow_hub as hub\n",
        "token_embeddings_layer = hub.KerasLayer(\"https://tfhub.dev/google/universal-sentence-encoder/4\",trainable=False)"
      ],
      "metadata": {
        "id": "g_Tl6jQijaoj"
      },
      "execution_count": 41,
      "outputs": []
    },
    {
      "cell_type": "markdown",
      "source": [
        "# Create the model\n",
        "\n",
        "1. Create a token-level model\n",
        "2. Create a character-level model\n",
        "3. Create a model for the line number feature\n",
        "4. Create a model for the total lines feature\n",
        "5. Combine the outputs of 1 and 2 using tf.keras.layers.Concatenate\n",
        "6. Combine the outputs of 3,4 and 5 using tf.keras.layers.Concatenate\n",
        "7. Create an output layer to accept the tribrid embedding and output label probabilities \n",
        "8. Combine the inputs of 1,2,3,4 and outputs of into a tf.keras.Model "
      ],
      "metadata": {
        "id": "zSQ_8xiRlNN1"
      }
    },
    {
      "cell_type": "code",
      "source": [
        "# 1. Token embeddings\n",
        "token_inputs = tf.keras.layers.Input(shape=(),dtype=tf.string,name=\"token_input\")\n",
        "x = token_embeddings_layer(token_inputs)\n",
        "token_outputs = tf.keras.layers.Dense(128, activation=\"relu\")(x)\n",
        "\n",
        "token_model = tf.keras.models.Model(token_inputs, token_outputs)\n",
        "\n",
        "# 2. Char vectorization\n",
        "char_inputs = tf.keras.layers.Input(shape=(1,),dtype=tf.string,name=\"char_input\")\n",
        "x = char_vectorization(char_inputs)\n",
        "x = char_embedding(x)\n",
        "char_outputs = tf.keras.layers.Bidirectional(tf.keras.layers.LSTM(24))(x)\n",
        "\n",
        "char_model = tf.keras.models.Model(char_inputs, char_outputs)\n",
        "\n",
        "# 3. Line number feature\n",
        "line_number_input = tf.keras.layers.Input(shape=(15,),dtype=tf.float64,name=\"line_number_input\")\n",
        "line_number_output = tf.keras.layers.Dense(128, activation=\"relu\")(line_number_input)\n",
        "\n",
        "line_number_model = tf.keras.models.Model(line_number_input, line_number_output)\n",
        "\n",
        "# 4. Total lines feature\n",
        "total_lines_input = tf.keras.layers.Input(shape=(20,),dtype=tf.float64,name=\"total_lines_input\")\n",
        "total_lines_output = tf.keras.layers.Dense(128, activation=\"relu\")(total_lines_input)\n",
        "\n",
        "total_lines_model = tf.keras.models.Model(total_lines_input, total_lines_output)\n",
        "\n",
        "# 5. Concatenate token and char models\n",
        "concat_embeddings = tf.keras.layers.Concatenate()([token_model.output,\n",
        "                                           char_model.output])\n",
        "\n",
        "z = tf.keras.layers.Dense(256,activation=\"relu\")(concat_embeddings)\n",
        "z = tf.keras.layers.Dropout(0.5)(z)\n",
        "\n",
        "\n",
        "# 6. Tribrid model\n",
        "tribrid_output = tf.keras.layers.Concatenate()([line_number_model.output,\n",
        "                                            total_lines_model.output,\n",
        "                                            z])\n",
        "\n",
        "# 7. Output layer\n",
        "z = tf.keras.layers.Dropout(0.5)(tribrid_output)\n",
        "outputs = tf.keras.layers.Dense(5,activation=\"softmax\")(z)\n",
        "\n",
        "# 8. Combine all the models\n",
        "model = tf.keras.models.Model(inputs=[token_model.input,\n",
        "                                     char_model.input,\n",
        "                                     line_number_model.input,\n",
        "                                     total_lines_model.input],\n",
        "                              outputs=[outputs])\n",
        "\n",
        "# Compile the model\n",
        "model.compile(loss=tf.keras.losses.categorical_crossentropy,\n",
        "              optimizer=tf.keras.optimizers.SGD(),\n",
        "              metrics=[\"accuracy\"])\n"
      ],
      "metadata": {
        "id": "d5OF-mrvlOxa"
      },
      "execution_count": 58,
      "outputs": []
    },
    {
      "cell_type": "code",
      "source": [
        "model.summary()"
      ],
      "metadata": {
        "id": "B1iydnzQwlSE",
        "colab": {
          "base_uri": "https://localhost:8080/"
        },
        "outputId": "48d21d32-9474-461d-c3a9-79767f8cd2df"
      },
      "execution_count": 43,
      "outputs": [
        {
          "output_type": "stream",
          "name": "stdout",
          "text": [
            "Model: \"model_4\"\n",
            "__________________________________________________________________________________________________\n",
            " Layer (type)                   Output Shape         Param #     Connected to                     \n",
            "==================================================================================================\n",
            " char_input (InputLayer)        [(None, 1)]          0           []                               \n",
            "                                                                                                  \n",
            " token_input (InputLayer)       [(None,)]            0           []                               \n",
            "                                                                                                  \n",
            " text_vectorization (TextVector  (None, 290)         0           ['char_input[0][0]']             \n",
            " ization)                                                                                         \n",
            "                                                                                                  \n",
            " keras_layer (KerasLayer)       (None, 512)          256797824   ['token_input[0][0]']            \n",
            "                                                                                                  \n",
            " embedding (Embedding)          (None, 290, 25)      1750        ['text_vectorization[0][0]']     \n",
            "                                                                                                  \n",
            " dense (Dense)                  (None, 128)          65664       ['keras_layer[0][0]']            \n",
            "                                                                                                  \n",
            " bidirectional (Bidirectional)  (None, 48)           9600        ['embedding[0][0]']              \n",
            "                                                                                                  \n",
            " concatenate (Concatenate)      (None, 176)          0           ['dense[0][0]',                  \n",
            "                                                                  'bidirectional[0][0]']          \n",
            "                                                                                                  \n",
            " line_number_input (InputLayer)  [(None, 51)]        0           []                               \n",
            "                                                                                                  \n",
            " total_lines_input (InputLayer)  [(None, 42)]        0           []                               \n",
            "                                                                                                  \n",
            " dense_3 (Dense)                (None, 256)          45312       ['concatenate[0][0]']            \n",
            "                                                                                                  \n",
            " dense_1 (Dense)                (None, 128)          6656        ['line_number_input[0][0]']      \n",
            "                                                                                                  \n",
            " dense_2 (Dense)                (None, 128)          5504        ['total_lines_input[0][0]']      \n",
            "                                                                                                  \n",
            " dropout (Dropout)              (None, 256)          0           ['dense_3[0][0]']                \n",
            "                                                                                                  \n",
            " concatenate_1 (Concatenate)    (None, 512)          0           ['dense_1[0][0]',                \n",
            "                                                                  'dense_2[0][0]',                \n",
            "                                                                  'dropout[0][0]']                \n",
            "                                                                                                  \n",
            " dropout_1 (Dropout)            (None, 512)          0           ['concatenate_1[0][0]']          \n",
            "                                                                                                  \n",
            " dense_4 (Dense)                (None, 5)            2565        ['dropout_1[0][0]']              \n",
            "                                                                                                  \n",
            "==================================================================================================\n",
            "Total params: 256,934,875\n",
            "Trainable params: 137,051\n",
            "Non-trainable params: 256,797,824\n",
            "__________________________________________________________________________________________________\n"
          ]
        }
      ]
    },
    {
      "cell_type": "code",
      "source": [
        "from tensorflow.keras.utils import plot_model\n",
        "plot_model(model)"
      ],
      "metadata": {
        "id": "F1raALIFwoEH",
        "colab": {
          "base_uri": "https://localhost:8080/",
          "height": 953
        },
        "outputId": "0b9f5683-d914-40ed-a19e-e28be907f89a"
      },
      "execution_count": 44,
      "outputs": [
        {
          "output_type": "execute_result",
          "data": {
            "text/plain": [
              "<IPython.core.display.Image object>"
            ],
            "image/png": "[encoded data removed]"
          },
          "metadata": {},
          "execution_count": 44
        }
      ]
    },
    {
      "cell_type": "markdown",
      "source": [
        "# Create the datasets using tf.data.Dataset"
      ],
      "metadata": {
        "id": "ZiGg-ti5kpqJ"
      }
    },
    {
      "cell_type": "code",
      "source": [
        "train_features = tf.data.Dataset.from_tensor_slices((train_sentences, train_chars, \n",
        "                                                    train_line_number_one_hot, train_total_lines_one_hot))\n",
        "\n",
        "train_labels = tf.data.Dataset.from_tensor_slices(train_labels_one_hot)\n",
        "train_dataset = tf.data.Dataset.zip((train_features, train_labels))\n",
        "\n",
        "val_features = tf.data.Dataset.from_tensor_slices((val_sentences, val_chars, val_line_number_one_hot, val_total_lines_one_hot))\n",
        "val_labels = tf.data.Dataset.from_tensor_slices(val_labels_one_hot)\n",
        "val_dataset = tf.data.Dataset.zip((val_features, val_labels))\n",
        "\n",
        "train_dataset = train_dataset.batch(32).prefetch(tf.data.AUTOTUNE)\n",
        "val_dataset = val_dataset.batch(32).prefetch(tf.data.AUTOTUNE)"
      ],
      "metadata": {
        "id": "IPDbUSUZlFXs"
      },
      "execution_count": 59,
      "outputs": []
    },
    {
      "cell_type": "markdown",
      "source": [
        "# Fit the model"
      ],
      "metadata": {
        "id": "SldDwNEcxq-7"
      }
    },
    {
      "cell_type": "code",
      "source": [
        "history = model.fit(train_dataset, validation_data=val_dataset, epochs=5)"
      ],
      "metadata": {
        "id": "gnZk-LtD1JXe",
        "colab": {
          "base_uri": "https://localhost:8080/"
        },
        "outputId": "a70abb65-1e0f-43fb-9e83-a2cf22298bda"
      },
      "execution_count": 60,
      "outputs": [
        {
          "output_type": "stream",
          "name": "stdout",
          "text": [
            "Epoch 1/5\n",
            "5627/5627 [==============================] - 649s 113ms/step - loss: 1.0089 - accuracy: 0.6003 - val_loss: 0.6437 - val_accuracy: 0.7468\n",
            "Epoch 2/5\n",
            "5627/5627 [==============================] - 641s 114ms/step - loss: 0.6376 - accuracy: 0.7480 - val_loss: 0.5500 - val_accuracy: 0.7804\n",
            "Epoch 3/5\n",
            "5627/5627 [==============================] - 638s 113ms/step - loss: 0.5778 - accuracy: 0.7741 - val_loss: 0.5114 - val_accuracy: 0.8001\n",
            "Epoch 4/5\n",
            "5627/5627 [==============================] - 642s 114ms/step - loss: 0.5448 - accuracy: 0.7890 - val_loss: 0.4877 - val_accuracy: 0.8117\n",
            "Epoch 5/5\n",
            "5627/5627 [==============================] - 641s 114ms/step - loss: 0.5256 - accuracy: 0.7978 - val_loss: 0.4733 - val_accuracy: 0.8165\n"
          ]
        }
      ]
    },
    {
      "cell_type": "markdown",
      "source": [
        "# Evaluate the model"
      ],
      "metadata": {
        "id": "94rGkHH7ioBX"
      }
    },
    {
      "cell_type": "code",
      "source": [
        "model.evaluate(val_dataset)"
      ],
      "metadata": {
        "id": "IOZr-le31OiY",
        "colab": {
          "base_uri": "https://localhost:8080/"
        },
        "outputId": "918c5b5f-db52-4d08-c926-8643a36a7f27"
      },
      "execution_count": 61,
      "outputs": [
        {
          "output_type": "stream",
          "name": "stdout",
          "text": [
            "945/945 [==============================] - 52s 55ms/step - loss: 0.4733 - accuracy: 0.8165\n"
          ]
        },
        {
          "output_type": "execute_result",
          "data": {
            "text/plain": [
              "[0.4732833802700043, 0.8165298700332642]"
            ]
          },
          "metadata": {},
          "execution_count": 61
        }
      ]
    },
    {
      "cell_type": "code",
      "source": [
        "model_preds_probs = model.predict(val_dataset)\n",
        "model_preds_probs"
      ],
      "metadata": {
        "colab": {
          "base_uri": "https://localhost:8080/"
        },
        "id": "tDPDZBQcV4P-",
        "outputId": "4a6d658f-96be-46f2-a444-7627953e5439"
      },
      "execution_count": 65,
      "outputs": [
        {
          "output_type": "execute_result",
          "data": {
            "text/plain": [
              "array([[6.1665958e-01, 9.6600289e-03, 1.2726343e-04, 3.7314638e-01,\n",
              "        4.0681835e-04],\n",
              "       [7.4208909e-01, 8.2855364e-03, 4.9852543e-03, 2.4427193e-01,\n",
              "        3.6814439e-04],\n",
              "       [3.6706987e-01, 4.8672389e-02, 4.9964666e-02, 4.9478847e-01,\n",
              "        3.9504673e-02],\n",
              "       ...,\n",
              "       [1.8341468e-04, 1.1473649e-02, 8.2676010e-03, 3.5402027e-05,\n",
              "        9.8003995e-01],\n",
              "       [9.5214252e-04, 6.2820077e-02, 1.5552449e-02, 1.4066494e-04,\n",
              "        9.2053467e-01],\n",
              "       [4.8097616e-01, 2.1756546e-01, 2.2268201e-01, 3.6447784e-03,\n",
              "        7.5131543e-02]], dtype=float32)"
            ]
          },
          "metadata": {},
          "execution_count": 65
        }
      ]
    },
    {
      "cell_type": "code",
      "source": [
        "model_preds = tf.argmax(model_preds_probs, axis=1)\n",
        "model_preds"
      ],
      "metadata": {
        "colab": {
          "base_uri": "https://localhost:8080/"
        },
        "id": "GSxPq0m4Yfjg",
        "outputId": "243160b8-e758-4fe5-bb28-f445e19e84c4"
      },
      "execution_count": 66,
      "outputs": [
        {
          "output_type": "execute_result",
          "data": {
            "text/plain": [
              "<tf.Tensor: shape=(30212,), dtype=int64, numpy=array([0, 0, 3, ..., 4, 4, 0])>"
            ]
          },
          "metadata": {},
          "execution_count": 66
        }
      ]
    },
    {
      "cell_type": "code",
      "source": [
        "from sklearn.metrics import accuracy_score, precision_score, recall_score, f1_score\n",
        "import pandas as pd"
      ],
      "metadata": {
        "id": "hIR7MBcrcL3u"
      },
      "execution_count": 87,
      "outputs": []
    },
    {
      "cell_type": "code",
      "source": [
        "def calculate_results(y_true, y_pred):\n",
        "\n",
        "  accuracy = accuracy_score(y_true, y_pred)\n",
        "  precision = precision_score(y_true, y_pred,average='weighted')\n",
        "  recall = recall_score(y_true, y_pred,average='weighted')\n",
        "  f1 = f1_score(y_true, y_pred,average='weighted')\n",
        "\n",
        "  results = {\"accuracy\":accuracy,\n",
        "             \"precision\":precision,\n",
        "             \"recall\":recall,\n",
        "             \"f1_score\":f1}\n",
        "\n",
        "  final_results = pd.DataFrame(results,index=[\"Model\"])\n",
        "\n",
        "  return final_results"
      ],
      "metadata": {
        "id": "CQ7D5aWiaUNd"
      },
      "execution_count": 95,
      "outputs": []
    },
    {
      "cell_type": "code",
      "source": [
        "model_results = calculate_results(val_labels_encoded, model_preds)\n",
        "model_results = model_results.transpose()\n",
        "model_results"
      ],
      "metadata": {
        "colab": {
          "base_uri": "https://localhost:8080/",
          "height": 175
        },
        "id": "IYR6NUadb6gp",
        "outputId": "392c681f-bf30-4b27-c292-41e1d84f9b4e"
      },
      "execution_count": 96,
      "outputs": [
        {
          "output_type": "execute_result",
          "data": {
            "text/plain": [
              "              Model\n",
              "accuracy   0.816530\n",
              "precision  0.816183\n",
              "recall     0.816530\n",
              "f1_score   0.814067"
            ],
            "text/html": [
              "\n",
              "  <div id=\"df-90807467-a687-4817-b82c-9944e4d9ba39\">\n",
              "    <div class=\"colab-df-container\">\n",
              "      <div>\n",
              "<style scoped>\n",
              "    .dataframe tbody tr th:only-of-type {\n",
              "        vertical-align: middle;\n",
              "    }\n",
              "\n",
              "    .dataframe tbody tr th {\n",
              "        vertical-align: top;\n",
              "    }\n",
              "\n",
              "    .dataframe thead th {\n",
              "        text-align: right;\n",
              "    }\n",
              "</style>\n",
              "<table border=\"1\" class=\"dataframe\">\n",
              "  <thead>\n",
              "    <tr style=\"text-align: right;\">\n",
              "      <th></th>\n",
              "      <th>Model</th>\n",
              "    </tr>\n",
              "  </thead>\n",
              "  <tbody>\n",
              "    <tr>\n",
              "      <th>accuracy</th>\n",
              "      <td>0.816530</td>\n",
              "    </tr>\n",
              "    <tr>\n",
              "      <th>precision</th>\n",
              "      <td>0.816183</td>\n",
              "    </tr>\n",
              "    <tr>\n",
              "      <th>recall</th>\n",
              "      <td>0.816530</td>\n",
              "    </tr>\n",
              "    <tr>\n",
              "      <th>f1_score</th>\n",
              "      <td>0.814067</td>\n",
              "    </tr>\n",
              "  </tbody>\n",
              "</table>\n",
              "</div>\n",
              "      <button class=\"colab-df-convert\" onclick=\"convertToInteractive('df-90807467-a687-4817-b82c-9944e4d9ba39')\"\n",
              "              title=\"Convert this dataframe to an interactive table.\"\n",
              "              style=\"display:none;\">\n",
              "        \n",
              "  <svg xmlns=\"http://www.w3.org/2000/svg\" height=\"24px\"viewBox=\"0 0 24 24\"\n",
              "       width=\"24px\">\n",
              "    <path d=\"M0 0h24v24H0V0z\" fill=\"none\"/>\n",
              "    <path d=\"M18.56 5.44l.94 2.06.94-2.06 2.06-.94-2.06-.94-.94-2.06-.94 2.06-2.06.94zm-11 1L8.5 8.5l.94-2.06 2.06-.94-2.06-.94L8.5 2.5l-.94 2.06-2.06.94zm10 10l.94 2.06.94-2.06 2.06-.94-2.06-.94-.94-2.06-.94 2.06-2.06.94z\"/><path d=\"M17.41 7.96l-1.37-1.37c-.4-.4-.92-.59-1.43-.59-.52 0-1.04.2-1.43.59L10.3 9.45l-7.72 7.72c-.78.78-.78 2.05 0 2.83L4 21.41c.39.39.9.59 1.41.59.51 0 1.02-.2 1.41-.59l7.78-7.78 2.81-2.81c.8-.78.8-2.07 0-2.86zM5.41 20L4 18.59l7.72-7.72 1.47 1.35L5.41 20z\"/>\n",
              "  </svg>\n",
              "      </button>\n",
              "      \n",
              "  <style>\n",
              "    .colab-df-container {\n",
              "      display:flex;\n",
              "      flex-wrap:wrap;\n",
              "      gap: 12px;\n",
              "    }\n",
              "\n",
              "    .colab-df-convert {\n",
              "      background-color: #E8F0FE;\n",
              "      border: none;\n",
              "      border-radius: 50%;\n",
              "      cursor: pointer;\n",
              "      display: none;\n",
              "      fill: #1967D2;\n",
              "      height: 32px;\n",
              "      padding: 0 0 0 0;\n",
              "      width: 32px;\n",
              "    }\n",
              "\n",
              "    .colab-df-convert:hover {\n",
              "      background-color: #E2EBFA;\n",
              "      box-shadow: 0px 1px 2px rgba(60, 64, 67, 0.3), 0px 1px 3px 1px rgba(60, 64, 67, 0.15);\n",
              "      fill: #174EA6;\n",
              "    }\n",
              "\n",
              "    [theme=dark] .colab-df-convert {\n",
              "      background-color: #3B4455;\n",
              "      fill: #D2E3FC;\n",
              "    }\n",
              "\n",
              "    [theme=dark] .colab-df-convert:hover {\n",
              "      background-color: #434B5C;\n",
              "      box-shadow: 0px 1px 3px 1px rgba(0, 0, 0, 0.15);\n",
              "      filter: drop-shadow(0px 1px 2px rgba(0, 0, 0, 0.3));\n",
              "      fill: #FFFFFF;\n",
              "    }\n",
              "  </style>\n",
              "\n",
              "      <script>\n",
              "        const buttonEl =\n",
              "          document.querySelector('#df-90807467-a687-4817-b82c-9944e4d9ba39 button.colab-df-convert');\n",
              "        buttonEl.style.display =\n",
              "          google.colab.kernel.accessAllowed ? 'block' : 'none';\n",
              "\n",
              "        async function convertToInteractive(key) {\n",
              "          const element = document.querySelector('#df-90807467-a687-4817-b82c-9944e4d9ba39');\n",
              "          const dataTable =\n",
              "            await google.colab.kernel.invokeFunction('convertToInteractive',\n",
              "                                                     [key], {});\n",
              "          if (!dataTable) return;\n",
              "\n",
              "          const docLinkHtml = 'Like what you see? Visit the ' +\n",
              "            '<a target=\"_blank\" href=https://colab.research.google.com/notebooks/data_table.ipynb>data table notebook</a>'\n",
              "            + ' to learn more about interactive tables.';\n",
              "          element.innerHTML = '';\n",
              "          dataTable['output_type'] = 'display_data';\n",
              "          await google.colab.output.renderOutput(dataTable, element);\n",
              "          const docLink = document.createElement('div');\n",
              "          docLink.innerHTML = docLinkHtml;\n",
              "          element.appendChild(docLink);\n",
              "        }\n",
              "      </script>\n",
              "    </div>\n",
              "  </div>\n",
              "  "
            ]
          },
          "metadata": {},
          "execution_count": 96
        }
      ]
    },
    {
      "cell_type": "code",
      "source": [
        "import matplotlib.pyplot as plt"
      ],
      "metadata": {
        "id": "cKrCQZvoiwZP"
      },
      "execution_count": 97,
      "outputs": []
    },
    {
      "cell_type": "code",
      "source": [
        "model_results.plot(kind=\"bar\",figsize=(10,7))"
      ],
      "metadata": {
        "colab": {
          "base_uri": "https://localhost:8080/",
          "height": 481
        },
        "id": "-cGOImcLhy43",
        "outputId": "b7320b72-3430-49ad-d2bc-ef799bfe7e94"
      },
      "execution_count": 99,
      "outputs": [
        {
          "output_type": "execute_result",
          "data": {
            "text/plain": [
              "<matplotlib.axes._subplots.AxesSubplot at 0x7fa4c3b6e710>"
            ]
          },
          "metadata": {},
          "execution_count": 99
        },
        {
          "output_type": "display_data",
          "data": {
            "text/plain": [
              "<Figure size 720x504 with 1 Axes>"
            ],
            "image/png": "[encoded data removed]"
          },
          "metadata": {
            "needs_background": "light"
          }
        }
      ]
    }
  ]
}